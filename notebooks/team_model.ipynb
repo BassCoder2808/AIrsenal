{
 "cells": [
  {
   "cell_type": "code",
   "execution_count": 1,
   "metadata": {},
   "outputs": [
    {
     "name": "stderr",
     "output_type": "stream",
     "text": [
      "/Users/crangelsmith/opt/anaconda3/envs/airsenalenv/lib/python3.9/site-packages/tqdm/auto.py:21: TqdmWarning: IProgress not found. Please update jupyter and ipywidgets. See https://ipywidgets.readthedocs.io/en/stable/user_install.html\n",
      "  from .autonotebook import tqdm as notebook_tqdm\n"
     ]
    }
   ],
   "source": [
    "from airsenal.framework.utils import *\n",
    "from airsenal.framework.bpl_interface import get_fitted_team_model\n",
    "from airsenal.framework.season import get_current_season, CURRENT_TEAMS\n",
    "\n",
    "import matplotlib.pyplot as plt\n",
    "import seaborn as sns\n",
    "\n",
    "import numpy as np\n",
    "\n",
    "%matplotlib inline"
   ]
  },
  {
   "cell_type": "code",
   "execution_count": 2,
   "metadata": {},
   "outputs": [
    {
     "name": "stdout",
     "output_type": "stream",
     "text": [
      "Requirement already satisfied: seaborn in /Users/crangelsmith/opt/anaconda3/envs/airsenalenv/lib/python3.9/site-packages (0.12.2)\n",
      "Requirement already satisfied: numpy!=1.24.0,>=1.17 in /Users/crangelsmith/opt/anaconda3/envs/airsenalenv/lib/python3.9/site-packages (from seaborn) (1.24.3)\n",
      "Requirement already satisfied: pandas>=0.25 in /Users/crangelsmith/opt/anaconda3/envs/airsenalenv/lib/python3.9/site-packages (from seaborn) (1.5.3)\n",
      "Requirement already satisfied: matplotlib!=3.6.1,>=3.1 in /Users/crangelsmith/opt/anaconda3/envs/airsenalenv/lib/python3.9/site-packages (from seaborn) (3.7.1)\n",
      "Requirement already satisfied: contourpy>=1.0.1 in /Users/crangelsmith/opt/anaconda3/envs/airsenalenv/lib/python3.9/site-packages (from matplotlib!=3.6.1,>=3.1->seaborn) (1.0.7)\n",
      "Requirement already satisfied: cycler>=0.10 in /Users/crangelsmith/opt/anaconda3/envs/airsenalenv/lib/python3.9/site-packages (from matplotlib!=3.6.1,>=3.1->seaborn) (0.11.0)\n",
      "Requirement already satisfied: fonttools>=4.22.0 in /Users/crangelsmith/opt/anaconda3/envs/airsenalenv/lib/python3.9/site-packages (from matplotlib!=3.6.1,>=3.1->seaborn) (4.40.0)\n",
      "Requirement already satisfied: kiwisolver>=1.0.1 in /Users/crangelsmith/opt/anaconda3/envs/airsenalenv/lib/python3.9/site-packages (from matplotlib!=3.6.1,>=3.1->seaborn) (1.4.4)\n",
      "Requirement already satisfied: packaging>=20.0 in /Users/crangelsmith/opt/anaconda3/envs/airsenalenv/lib/python3.9/site-packages (from matplotlib!=3.6.1,>=3.1->seaborn) (23.1)\n",
      "Requirement already satisfied: pillow>=6.2.0 in /Users/crangelsmith/opt/anaconda3/envs/airsenalenv/lib/python3.9/site-packages (from matplotlib!=3.6.1,>=3.1->seaborn) (9.5.0)\n",
      "Requirement already satisfied: pyparsing>=2.3.1 in /Users/crangelsmith/opt/anaconda3/envs/airsenalenv/lib/python3.9/site-packages (from matplotlib!=3.6.1,>=3.1->seaborn) (3.0.9)\n",
      "Requirement already satisfied: python-dateutil>=2.7 in /Users/crangelsmith/opt/anaconda3/envs/airsenalenv/lib/python3.9/site-packages (from matplotlib!=3.6.1,>=3.1->seaborn) (2.8.2)\n",
      "Requirement already satisfied: importlib-resources>=3.2.0 in /Users/crangelsmith/opt/anaconda3/envs/airsenalenv/lib/python3.9/site-packages (from matplotlib!=3.6.1,>=3.1->seaborn) (5.12.0)\n",
      "Requirement already satisfied: pytz>=2020.1 in /Users/crangelsmith/opt/anaconda3/envs/airsenalenv/lib/python3.9/site-packages (from pandas>=0.25->seaborn) (2023.3)\n",
      "Requirement already satisfied: zipp>=3.1.0 in /Users/crangelsmith/opt/anaconda3/envs/airsenalenv/lib/python3.9/site-packages (from importlib-resources>=3.2.0->matplotlib!=3.6.1,>=3.1->seaborn) (3.15.0)\n",
      "Requirement already satisfied: six>=1.5 in /Users/crangelsmith/opt/anaconda3/envs/airsenalenv/lib/python3.9/site-packages (from python-dateutil>=2.7->matplotlib!=3.6.1,>=3.1->seaborn) (1.16.0)\n"
     ]
    }
   ],
   "source": [
    "!pip install seaborn "
   ]
  },
  {
   "cell_type": "code",
   "execution_count": 3,
   "metadata": {},
   "outputs": [
    {
     "name": "stdout",
     "output_type": "stream",
     "text": [
      "Fitting team model...\n"
     ]
    },
    {
     "name": "stderr",
     "output_type": "stream",
     "text": [
      "sample: 100%|████████████████████████████████████████████████████████████████████████████████████████| 1500/1500 [00:25<00:00, 59.25it/s, 127 steps of size 3.53e-02. acc. prob=0.91]\n"
     ]
    }
   ],
   "source": [
    "model_team = get_fitted_team_model(get_current_season(), NEXT_GAMEWEEK, session)"
   ]
  },
  {
   "cell_type": "code",
   "execution_count": 4,
   "metadata": {},
   "outputs": [
    {
     "ename": "AttributeError",
     "evalue": "'ExtendedDixonColesMatchPredictor' object has no attribute 'team_indices'",
     "output_type": "error",
     "traceback": [
      "\u001b[0;31m---------------------------------------------------------------------------\u001b[0m",
      "\u001b[0;31mAttributeError\u001b[0m                            Traceback (most recent call last)",
      "Cell \u001b[0;32mIn[4], line 3\u001b[0m\n\u001b[1;32m      1\u001b[0m \u001b[38;5;66;03m# extract indices of current premier league teams\u001b[39;00m\n\u001b[1;32m      2\u001b[0m \u001b[38;5;66;03m# val-1 because 1-indexed in model but 0-indexed in python\u001b[39;00m\n\u001b[0;32m----> 3\u001b[0m current_idx \u001b[38;5;241m=\u001b[39m {key: val\u001b[38;5;241m-\u001b[39m\u001b[38;5;241m1\u001b[39m \u001b[38;5;28;01mfor\u001b[39;00m key, val \u001b[38;5;129;01min\u001b[39;00m \u001b[43mmodel_team\u001b[49m\u001b[38;5;241;43m.\u001b[39;49m\u001b[43mteam_indices\u001b[49m\u001b[38;5;241m.\u001b[39mitems()\n\u001b[1;32m      4\u001b[0m                \u001b[38;5;28;01mif\u001b[39;00m key \u001b[38;5;129;01min\u001b[39;00m CURRENT_TEAMS}\n\u001b[1;32m      6\u001b[0m top6 \u001b[38;5;241m=\u001b[39m [\u001b[38;5;124m'\u001b[39m\u001b[38;5;124mMCI\u001b[39m\u001b[38;5;124m'\u001b[39m, \u001b[38;5;124m'\u001b[39m\u001b[38;5;124mLIV\u001b[39m\u001b[38;5;124m'\u001b[39m, \u001b[38;5;124m'\u001b[39m\u001b[38;5;124mTOT\u001b[39m\u001b[38;5;124m'\u001b[39m, \u001b[38;5;124m'\u001b[39m\u001b[38;5;124mCHE\u001b[39m\u001b[38;5;124m'\u001b[39m, \u001b[38;5;124m'\u001b[39m\u001b[38;5;124mMUN\u001b[39m\u001b[38;5;124m'\u001b[39m, \u001b[38;5;124m'\u001b[39m\u001b[38;5;124mARS\u001b[39m\u001b[38;5;124m'\u001b[39m]\n",
      "\u001b[0;31mAttributeError\u001b[0m: 'ExtendedDixonColesMatchPredictor' object has no attribute 'team_indices'"
     ]
    }
   ],
   "source": [
    "# extract indices of current premier league teams\n",
    "# val-1 because 1-indexed in model but 0-indexed in python\n",
    "current_idx = {key: val-1 for key, val in model_team.team_indices.items()\n",
    "               if key in CURRENT_TEAMS}\n",
    "\n",
    "top6 = ['MCI', 'LIV', 'TOT', 'CHE', 'MUN', 'ARS']"
   ]
  },
  {
   "cell_type": "code",
   "execution_count": null,
   "metadata": {
    "scrolled": false
   },
   "outputs": [],
   "source": [
    "ax = plt.figure(figsize=(15, 5)).gca()\n",
    "for team, idx in current_idx.items():\n",
    "    sns.kdeplot(model_team.a[:, idx], label=team)\n",
    "plt.title('a (attack)')\n",
    "plt.legend()\n",
    "\n",
    "ax = plt.figure(figsize=(15, 5)).gca()\n",
    "for team, idx in current_idx.items():\n",
    "    sns.kdeplot(model_team.b[:, idx], label=team)\n",
    "plt.title('b (defence)')\n",
    "plt.legend()\n",
    "\n",
    "ax = plt.figure(figsize=(15, 5)).gca()\n",
    "for team, idx in current_idx.items():\n",
    "    sns.kdeplot(model_team.gamma[:, idx], label=team)\n",
    "plt.title('gamma (home advantage)')\n",
    "plt.legend()"
   ]
  },
  {
   "cell_type": "code",
   "execution_count": null,
   "metadata": {},
   "outputs": [],
   "source": [
    "a_mean = model_team.a.mean(axis=0)\n",
    "b_mean = model_team.b.mean(axis=0)\n",
    "\n",
    "a_conf95 = np.abs(np.quantile(model_team.a,[0.025, 0.975], axis=0) - a_mean)\n",
    "b_conf95 = np.abs(np.quantile(model_team.b, [0.025, 0.975], axis=0) - b_mean)\n",
    "a_conf80 = np.abs(np.quantile(model_team.a,[0.1, 0.9], axis=0) - a_mean)\n",
    "b_conf80 = np.abs(np.quantile(model_team.b, [0.1, 0.9], axis=0) - b_mean)\n",
    "\n",
    "fig, ax = plt.subplots(1, 1, figsize=(10,10))\n",
    "ax.set_aspect('equal')\n",
    "plt.errorbar(a_mean[list(current_idx.values())],\n",
    "             b_mean[list(current_idx.values())],\n",
    "             xerr=a_conf80[:, list(current_idx.values())],\n",
    "             yerr=b_conf80[:, list(current_idx.values())],\n",
    "             marker='o', markersize=10,\n",
    "             linestyle='', linewidth=0.5)\n",
    "plt.xlabel('a', fontsize=14)\n",
    "plt.ylabel('b', fontsize=14)\n",
    "\n",
    "for team, idx in current_idx.items():\n",
    "    ax.annotate(team,\n",
    "                (a_mean[idx]-0.03, b_mean[idx]+0.02), \n",
    "                fontsize=12)\n",
    "    \n",
    "plt.plot([1.6,  0.6], [0.6, 1.6], \"k--\")\n"
   ]
  },
  {
   "cell_type": "code",
   "execution_count": null,
   "metadata": {},
   "outputs": [],
   "source": [
    "# team features (excluding first column which is team name)\n",
    "feats = model_team.X.columns[1:]\n",
    "\n",
    "for idx in range(model_team.beta_a.shape[1]):\n",
    "    sns.kdeplot(model_team.beta_a[:,idx], \n",
    "                label=feats[idx])\n",
    "\n",
    "plt.legend()\n",
    "plt.title('beta_a')\n",
    "\n",
    "plt.figure()\n",
    "for idx in range(model_team.beta_b.shape[1]):\n",
    "    sns.kdeplot(model_team.beta_b[:,idx],\n",
    "                label=feats[idx])\n",
    "plt.legend()\n",
    "plt.title('beta_b')"
   ]
  },
  {
   "cell_type": "code",
   "execution_count": null,
   "metadata": {},
   "outputs": [],
   "source": [
    "beta_a_mean = model_team.beta_a.mean(axis=0)\n",
    "beta_b_mean = model_team.beta_b.mean(axis=0)\n",
    "\n",
    "beta_a_conf95 = np.abs(np.quantile(model_team.beta_a,[0.025, 0.975], axis=0) - beta_a_mean)\n",
    "beta_b_conf95 = np.abs(np.quantile(model_team.beta_b, [0.025, 0.975], axis=0) - beta_b_mean)\n",
    "beta_a_conf80 = np.abs(np.quantile(model_team.beta_a,[0.1, 0.9], axis=0) - beta_a_mean)\n",
    "beta_b_conf80 = np.abs(np.quantile(model_team.beta_b, [0.1, 0.9], axis=0) - beta_b_mean)\n",
    "\n",
    "fig, ax = plt.subplots(1, 1, figsize=(7,7))\n",
    "ax.set_aspect('equal')\n",
    "plt.errorbar(beta_a_mean,\n",
    "             beta_b_mean,\n",
    "             xerr=beta_a_conf80,\n",
    "             yerr=beta_b_conf80,\n",
    "             marker='o', markersize=10,\n",
    "             linestyle='', linewidth=0.5)\n",
    "plt.xlabel('beta_a', fontsize=14)\n",
    "plt.ylabel('beta_b', fontsize=14)\n",
    "plt.title('FIFA Ratings')\n",
    "\n",
    "for idx, feat in enumerate(feats):\n",
    "    ax.annotate(feat,\n",
    "                (beta_a_mean[idx]-0.03, beta_b_mean[idx]+0.02), \n",
    "                fontsize=12)\n",
    "    \n",
    "xlim = ax.get_xlim()\n",
    "ylim = ax.get_ylim()\n",
    "plt.plot([0, 0], ylim, color='k', linewidth=0.75)\n",
    "plt.plot(xlim, [0, 0], color='k', linewidth=0.75)\n",
    "plt.xlim(xlim)\n",
    "plt.ylim(ylim)"
   ]
  },
  {
   "cell_type": "code",
   "execution_count": null,
   "metadata": {
    "scrolled": true
   },
   "outputs": [],
   "source": [
    "sns.kdeplot(model_team.beta_b_0)"
   ]
  },
  {
   "cell_type": "code",
   "execution_count": null,
   "metadata": {
    "scrolled": true
   },
   "outputs": [],
   "source": [
    "sns.kdeplot(model_team.sigma_a)"
   ]
  },
  {
   "cell_type": "code",
   "execution_count": null,
   "metadata": {
    "scrolled": true
   },
   "outputs": [],
   "source": [
    "sns.kdeplot(model_team.sigma_b)"
   ]
  },
  {
   "cell_type": "code",
   "execution_count": null,
   "metadata": {},
   "outputs": [],
   "source": [
    "model_team.log_score()"
   ]
  },
  {
   "cell_type": "code",
   "execution_count": null,
   "metadata": {},
   "outputs": [],
   "source": [
    "team_h = \"MCI\"\n",
    "team_a = \"MUN\""
   ]
  },
  {
   "cell_type": "code",
   "execution_count": null,
   "metadata": {},
   "outputs": [],
   "source": [
    "model_team.plot_score_probabilities(team_h, team_a);"
   ]
  },
  {
   "cell_type": "code",
   "execution_count": null,
   "metadata": {},
   "outputs": [],
   "source": [
    "model_team.concede_n_probability(2, team_h, team_a)"
   ]
  },
  {
   "cell_type": "code",
   "execution_count": null,
   "metadata": {},
   "outputs": [],
   "source": [
    "model_team.score_n_probability(2, team_h, team_a)"
   ]
  },
  {
   "cell_type": "code",
   "execution_count": null,
   "metadata": {},
   "outputs": [],
   "source": [
    "model_team.overall_probabilities(team_h, team_a)"
   ]
  },
  {
   "cell_type": "code",
   "execution_count": null,
   "metadata": {},
   "outputs": [],
   "source": [
    "model_team.score_probability(team_h, team_a, 2, 2)"
   ]
  },
  {
   "cell_type": "code",
   "execution_count": null,
   "metadata": {},
   "outputs": [],
   "source": [
    "sim = model_team.simulate_match(team_h, team_a)\n",
    "sim[team_h].value_counts(normalize=True).sort_index().plot.bar()\n",
    "plt.title(team_h)\n",
    "plt.ylim([0, 0.4])\n",
    "plt.xlim([-1, 8])\n",
    "\n",
    "plt.figure()\n",
    "sim[team_a].value_counts(normalize=True).sort_index().plot.bar()\n",
    "plt.title(team_a)\n",
    "plt.ylim([0, 0.4])\n",
    "plt.xlim([-1, 8])"
   ]
  },
  {
   "cell_type": "code",
   "execution_count": null,
   "metadata": {},
   "outputs": [],
   "source": [
    "max_goals = 10\n",
    "\n",
    "prob_score_h = [model_team.score_n_probability(n, team_h, team_a) for n in range(max_goals)]\n",
    "print(team_h, \"exp goals\", sum([n*prob_score_h[n] for n in range(max_goals)])/sum(prob_score_h))\n",
    "\n",
    "prob_score_a = [model_team.score_n_probability(n, team_a, team_h, home=False) for n in range(max_goals)]\n",
    "print(team_a, \"exp goals\", sum([n*prob_score_a[n] for n in range(max_goals)])/sum(prob_score_a))\n",
    "\n",
    "max_prob = 1.1*max(prob_score_h + prob_score_a)\n",
    "\n",
    "plt.figure(figsize=(15,5))\n",
    "plt.subplot(1,2,1)\n",
    "plt.bar(range(max_goals), prob_score_h)\n",
    "plt.ylim([0, max_prob])\n",
    "plt.xlim([-1, max_goals])\n",
    "plt.title(team_h)\n",
    "\n",
    "plt.subplot(1,2,2)\n",
    "plt.bar(range(max_goals), prob_score_a)\n",
    "plt.ylim([0, max_prob])\n",
    "plt.xlim([-1, max_goals])\n",
    "plt.title(team_a);"
   ]
  },
  {
   "cell_type": "code",
   "execution_count": null,
   "metadata": {
    "scrolled": false
   },
   "outputs": [],
   "source": [
    "df = model_team.simulate_match(team_h, team_a)\n",
    "print(df.quantile(0.25))\n",
    "print(df.median())\n",
    "print(df.quantile(0.75))"
   ]
  },
  {
   "cell_type": "code",
   "execution_count": null,
   "metadata": {},
   "outputs": [],
   "source": []
  }
 ],
 "metadata": {
  "kernelspec": {
   "display_name": "aiarsenal",
   "language": "python",
   "name": "aiarsenal"
  },
  "language_info": {
   "codemirror_mode": {
    "name": "ipython",
    "version": 3
   },
   "file_extension": ".py",
   "mimetype": "text/x-python",
   "name": "python",
   "nbconvert_exporter": "python",
   "pygments_lexer": "ipython3",
   "version": "3.9.16"
  }
 },
 "nbformat": 4,
 "nbformat_minor": 2
}
